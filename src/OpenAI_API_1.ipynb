{
  "nbformat": 4,
  "nbformat_minor": 0,
  "metadata": {
    "colab": {
      "provenance": [],
      "include_colab_link": true
    },
    "kernelspec": {
      "name": "python3",
      "display_name": "Python 3"
    },
    "language_info": {
      "name": "python"
    }
  },
  "cells": [
    {
      "cell_type": "markdown",
      "metadata": {
        "id": "view-in-github",
        "colab_type": "text"
      },
      "source": [
        "<a href=\"https://colab.research.google.com/github/alfgarcia37/ConEmu/blob/master/src/OpenAI_API_1.ipynb\" target=\"_parent\"><img src=\"https://colab.research.google.com/assets/colab-badge.svg\" alt=\"Open In Colab\"/></a>"
      ]
    },
    {
      "cell_type": "code",
      "source": [
        "!pip install openai"
      ],
      "metadata": {
        "colab": {
          "base_uri": "https://localhost:8080/"
        },
        "id": "0ua707S8oHGC",
        "outputId": "930f26a2-d6a5-4996-94b3-5e1e0b329439"
      },
      "execution_count": null,
      "outputs": [
        {
          "output_type": "stream",
          "name": "stdout",
          "text": [
            "Requirement already satisfied: openai in /usr/local/lib/python3.10/dist-packages (1.57.4)\n",
            "Requirement already satisfied: anyio<5,>=3.5.0 in /usr/local/lib/python3.10/dist-packages (from openai) (3.7.1)\n",
            "Requirement already satisfied: distro<2,>=1.7.0 in /usr/local/lib/python3.10/dist-packages (from openai) (1.9.0)\n",
            "Requirement already satisfied: httpx<1,>=0.23.0 in /usr/local/lib/python3.10/dist-packages (from openai) (0.28.1)\n",
            "Requirement already satisfied: jiter<1,>=0.4.0 in /usr/local/lib/python3.10/dist-packages (from openai) (0.8.2)\n",
            "Requirement already satisfied: pydantic<3,>=1.9.0 in /usr/local/lib/python3.10/dist-packages (from openai) (2.10.3)\n",
            "Requirement already satisfied: sniffio in /usr/local/lib/python3.10/dist-packages (from openai) (1.3.1)\n",
            "Requirement already satisfied: tqdm>4 in /usr/local/lib/python3.10/dist-packages (from openai) (4.67.1)\n",
            "Requirement already satisfied: typing-extensions<5,>=4.11 in /usr/local/lib/python3.10/dist-packages (from openai) (4.12.2)\n",
            "Requirement already satisfied: idna>=2.8 in /usr/local/lib/python3.10/dist-packages (from anyio<5,>=3.5.0->openai) (3.10)\n",
            "Requirement already satisfied: exceptiongroup in /usr/local/lib/python3.10/dist-packages (from anyio<5,>=3.5.0->openai) (1.2.2)\n",
            "Requirement already satisfied: certifi in /usr/local/lib/python3.10/dist-packages (from httpx<1,>=0.23.0->openai) (2024.12.14)\n",
            "Requirement already satisfied: httpcore==1.* in /usr/local/lib/python3.10/dist-packages (from httpx<1,>=0.23.0->openai) (1.0.7)\n",
            "Requirement already satisfied: h11<0.15,>=0.13 in /usr/local/lib/python3.10/dist-packages (from httpcore==1.*->httpx<1,>=0.23.0->openai) (0.14.0)\n",
            "Requirement already satisfied: annotated-types>=0.6.0 in /usr/local/lib/python3.10/dist-packages (from pydantic<3,>=1.9.0->openai) (0.7.0)\n",
            "Requirement already satisfied: pydantic-core==2.27.1 in /usr/local/lib/python3.10/dist-packages (from pydantic<3,>=1.9.0->openai) (2.27.1)\n"
          ]
        }
      ]
    },
    {
      "cell_type": "code",
      "execution_count": null,
      "metadata": {
        "id": "Pc7-P5VRn7VN"
      },
      "outputs": [],
      "source": [
        "# 2. Configuración inicial\n",
        "from openai import OpenAI, AzureOpenAI\n",
        "import os"
      ]
    },
    {
      "cell_type": "code",
      "source": [
        "# 3. Configurar la API key\n",
        "from google.colab import userdata\n",
        "api_key = userdata.get('OPENAI_API_KEY')\n",
        "client = OpenAI(api_key='tu_api_key')  # Mejor usar variables de entorno"
      ],
      "metadata": {
        "id": "OR5yl1FLpzoB"
      },
      "execution_count": null,
      "outputs": []
    },
    {
      "cell_type": "code",
      "source": [
        "\n",
        "\n",
        "api_key = userdata.get('OPENAI_API_KEY')\n",
        "client = OpenAI(api_key=api_key)  # Mejor usar variables de entorno"
      ],
      "metadata": {
        "id": "25B9ggAnp2Xm"
      },
      "execution_count": null,
      "outputs": []
    },
    {
      "cell_type": "code",
      "source": [
        "endpoint = userdata.get(\"AZURE_OPENAI_ENDPOINT\")\n",
        "api_key = userdata.get(\"AZURE_OPENAI_API_KEY\")\n",
        "\n",
        "client = AzureOpenAI(\n",
        "    azure_endpoint=endpoint,\n",
        "    api_key=api_key,\n",
        "    api_version=\"2023-09-01-preview\"\n",
        ")"
      ],
      "metadata": {
        "id": "pbqS5xU1qMyT"
      },
      "execution_count": null,
      "outputs": []
    },
    {
      "cell_type": "code",
      "source": [
        "completion = client.chat.completions.create(\n",
        "    model=\"gpt-4o-mini\",\n",
        "    messages=[\n",
        "        {\n",
        "            \"role\": \"user\",\n",
        "            \"content\": \"¡Hola! ¿Me ayudas a aprender sobre la API de OpenAI?\"\n",
        "        }\n",
        "    ]\n",
        ")"
      ],
      "metadata": {
        "id": "7YTFNDITqr0w"
      },
      "execution_count": null,
      "outputs": []
    },
    {
      "cell_type": "code",
      "source": [
        "completion.choices[0].message"
      ],
      "metadata": {
        "colab": {
          "base_uri": "https://localhost:8080/"
        },
        "id": "KbWA2N7ErKoC",
        "outputId": "23f25171-ef4f-475e-e86e-49eaf94a20b3"
      },
      "execution_count": null,
      "outputs": [
        {
          "output_type": "execute_result",
          "data": {
            "text/plain": [
              "ChatCompletionMessage(content='¡Hola! Claro, estaré encantado de ayudarte a aprender sobre la API de OpenAI. La API de OpenAI permite a los desarrolladores interactuar con modelos de lenguaje desarrollados por OpenAI, como ChatGPT y otros modelos de inteligencia artificial. Aquí te doy un resumen de lo que necesitas saber:\\n\\n### 1. **¿Qué es la API de OpenAI?**\\nLa API de OpenAI es un servicio basado en la nube que permite a los usuarios enviar solicitudes (prompts) a modelos de lenguaje de OpenAI y recibir respuestas generadas. Es útil para tareas de procesamiento de lenguaje natural, como chatbots, generación de texto, traducción, y más.\\n\\n### 2. **Cómo empezar:**\\n- **Registro**: Necesitas registrarte en OpenAI y obtener una clave API.\\n- **Documentación**: Revisa la [documentación oficial](https://platform.openai.com/docs) para entender cómo utilizar la API y sus capacidades.\\n\\n### 3. **Autenticación:**\\nPara interactuar con la API, debes autenticar tus solicitudes utilizando tu clave API. Esto se suele hacer configurando un encabezado HTTP en tus solicitudes.\\n\\n### 4. **Haciendo una solicitud:**\\nUn ejemplo básico para hacer una solicitud a la API de OpenAI usando Python con la biblioteca `requests` podría ser:\\n\\n```python\\nimport requests\\n\\napi_key = \\'tu_clave_api\\'\\nheaders = {\\n    \\'Authorization\\': f\\'Bearer {api_key}\\',\\n    \\'Content-Type\\': \\'application/json\\',\\n}\\n\\ndata = {\\n    \\'model\\': \\'gpt-3.5-turbo\\',  # o el modelo que elijas\\n    \\'messages\\': [\\n        {\\'role\\': \\'user\\', \\'content\\': \\'¿Qué es la inteligencia artificial?\\'}\\n    ],\\n}\\n\\nresponse = requests.post(\\'https://api.openai.com/v1/chat/completions\\', headers=headers, json=data)\\n\\nprint(response.json())\\n```\\n\\n### 5. **Parámetros importantes:**\\n- **model**: Especifica qué modelo utilizar (por ejemplo, \"gpt-3.5-turbo\").\\n- **messages**: Un array de mensajes que representa la conversación. Cada mensaje debe tener un `role` (\"user\", \"assistant\", etc.) y `content`.\\n\\n### 6. **Uso y costos:**\\nLa API es de pago, así que asegúrate de revisar los precios en el sitio web de OpenAI y monitoriza tu uso para evitar sorpresas.\\n\\n### 7. **Buenas prácticas:**\\n- Implementa límites de uso para evitar costos inesperados.\\n- Maneja errores y excepciones para situaciones de tiempo de espera o respuestas inesperadas.\\n\\nSi tienes preguntas específicas o necesitas más detalles sobre algún aspecto en particular, ¡dímelo!', refusal=None, role='assistant', audio=None, function_call=None, tool_calls=None)"
            ]
          },
          "metadata": {},
          "execution_count": 7
        }
      ]
    },
    {
      "cell_type": "code",
      "source": [
        "from IPython.display import display,Markdown"
      ],
      "metadata": {
        "id": "GHozvYvir6uc"
      },
      "execution_count": null,
      "outputs": []
    },
    {
      "cell_type": "code",
      "source": [
        "from IPython.display import display,Markdown\n",
        "display(Markdown(completion.choices[0].message.content))"
      ],
      "metadata": {
        "colab": {
          "base_uri": "https://localhost:8080/",
          "height": 1000
        },
        "id": "XNzAH_Plro0r",
        "outputId": "2be6f719-fba4-4b13-e35b-4adc0c07d7e1"
      },
      "execution_count": null,
      "outputs": [
        {
          "output_type": "display_data",
          "data": {
            "text/plain": [
              "<IPython.core.display.Markdown object>"
            ],
            "text/markdown": "¡Hola! Claro, estaré encantado de ayudarte a aprender sobre la API de OpenAI. La API de OpenAI permite a los desarrolladores interactuar con modelos de lenguaje desarrollados por OpenAI, como ChatGPT y otros modelos de inteligencia artificial. Aquí te doy un resumen de lo que necesitas saber:\n\n### 1. **¿Qué es la API de OpenAI?**\nLa API de OpenAI es un servicio basado en la nube que permite a los usuarios enviar solicitudes (prompts) a modelos de lenguaje de OpenAI y recibir respuestas generadas. Es útil para tareas de procesamiento de lenguaje natural, como chatbots, generación de texto, traducción, y más.\n\n### 2. **Cómo empezar:**\n- **Registro**: Necesitas registrarte en OpenAI y obtener una clave API.\n- **Documentación**: Revisa la [documentación oficial](https://platform.openai.com/docs) para entender cómo utilizar la API y sus capacidades.\n\n### 3. **Autenticación:**\nPara interactuar con la API, debes autenticar tus solicitudes utilizando tu clave API. Esto se suele hacer configurando un encabezado HTTP en tus solicitudes.\n\n### 4. **Haciendo una solicitud:**\nUn ejemplo básico para hacer una solicitud a la API de OpenAI usando Python con la biblioteca `requests` podría ser:\n\n```python\nimport requests\n\napi_key = 'tu_clave_api'\nheaders = {\n    'Authorization': f'Bearer {api_key}',\n    'Content-Type': 'application/json',\n}\n\ndata = {\n    'model': 'gpt-3.5-turbo',  # o el modelo que elijas\n    'messages': [\n        {'role': 'user', 'content': '¿Qué es la inteligencia artificial?'}\n    ],\n}\n\nresponse = requests.post('https://api.openai.com/v1/chat/completions', headers=headers, json=data)\n\nprint(response.json())\n```\n\n### 5. **Parámetros importantes:**\n- **model**: Especifica qué modelo utilizar (por ejemplo, \"gpt-3.5-turbo\").\n- **messages**: Un array de mensajes que representa la conversación. Cada mensaje debe tener un `role` (\"user\", \"assistant\", etc.) y `content`.\n\n### 6. **Uso y costos:**\nLa API es de pago, así que asegúrate de revisar los precios en el sitio web de OpenAI y monitoriza tu uso para evitar sorpresas.\n\n### 7. **Buenas prácticas:**\n- Implementa límites de uso para evitar costos inesperados.\n- Maneja errores y excepciones para situaciones de tiempo de espera o respuestas inesperadas.\n\nSi tienes preguntas específicas o necesitas más detalles sobre algún aspecto en particular, ¡dímelo!"
          },
          "metadata": {}
        }
      ]
    },
    {
      "cell_type": "code",
      "source": [
        "print(completion.choices[0].message.role)"
      ],
      "metadata": {
        "colab": {
          "base_uri": "https://localhost:8080/"
        },
        "id": "twgdO6Bvrqbf",
        "outputId": "bd9d4d17-6e65-4b23-c484-c950870eff14"
      },
      "execution_count": null,
      "outputs": [
        {
          "output_type": "stream",
          "name": "stdout",
          "text": [
            "assistant\n"
          ]
        }
      ]
    }
  ]
}