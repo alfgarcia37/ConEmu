{
  "nbformat": 4,
  "nbformat_minor": 0,
  "metadata": {
    "colab": {
      "provenance": [],
      "toc_visible": true,
      "mount_file_id": "1JkezngQCwE46YN3QuSQ1KBEwsa4zbP7Z",
      "authorship_tag": "ABX9TyMBhxwRoRUqfEuipHjXJyvd",
      "include_colab_link": true
    },
    "kernelspec": {
      "name": "python3",
      "display_name": "Python 3"
    },
    "language_info": {
      "name": "python"
    }
  },
  "cells": [
    {
      "cell_type": "markdown",
      "metadata": {
        "id": "view-in-github",
        "colab_type": "text"
      },
      "source": [
        "<a href=\"https://colab.research.google.com/github/alfgarcia37/ConEmu/blob/master/FineTunnig.ipynb\" target=\"_parent\"><img src=\"https://colab.research.google.com/assets/colab-badge.svg\" alt=\"Open In Colab\"/></a>"
      ]
    },
    {
      "cell_type": "code",
      "execution_count": 4,
      "metadata": {
        "colab": {
          "base_uri": "https://localhost:8080/"
        },
        "id": "6Beh6B7H6SL9",
        "outputId": "18490ef3-2451-414b-af22-61226cf849fc"
      },
      "outputs": [
        {
          "output_type": "stream",
          "name": "stdout",
          "text": [
            "Mounted at /content/drive\n",
            "drive  sample_data\n"
          ]
        }
      ],
      "source": [
        "#!pip install openai pandas\n",
        "import pandas as pd\n",
        "from google.colab import drive\n",
        "drive.mount('/content/drive')\n",
        "!ls\n"
      ]
    },
    {
      "cell_type": "code",
      "source": [
        "!ls"
      ],
      "metadata": {
        "colab": {
          "base_uri": "https://localhost:8080/"
        },
        "id": "xBabWYq48zoU",
        "outputId": "b1a91722-8c22-4481-aa07-a0ebf881d673"
      },
      "execution_count": null,
      "outputs": [
        {
          "output_type": "stream",
          "name": "stdout",
          "text": [
            "drive  sample_data\n"
          ]
        }
      ]
    },
    {
      "cell_type": "code",
      "source": [
        "\n",
        "# Cargar el archivo .csv\n",
        "# Especificar la ruta del archivo\n",
        "file_path = '/content/drive/My Drive/Datos.csv'\n",
        "data = pd.read_csv(file_path)\n",
        "\n",
        "# Verificar los primeros registros\n",
        "print(data.head())"
      ],
      "metadata": {
        "id": "1GMg9qS-8r2v"
      },
      "execution_count": null,
      "outputs": []
    }
  ]
}