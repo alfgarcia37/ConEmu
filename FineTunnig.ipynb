{
  "nbformat": 4,
  "nbformat_minor": 0,
  "metadata": {
    "colab": {
      "provenance": [],
      "mount_file_id": "1JkezngQCwE46YN3QuSQ1KBEwsa4zbP7Z",
      "authorship_tag": "ABX9TyNMEnHcLrGQ2HLAIaLo+ARA",
      "include_colab_link": true
    },
    "kernelspec": {
      "name": "python3",
      "display_name": "Python 3"
    },
    "language_info": {
      "name": "python"
    }
  },
  "cells": [
    {
      "cell_type": "markdown",
      "metadata": {
        "id": "view-in-github",
        "colab_type": "text"
      },
      "source": [
        "<a href=\"https://colab.research.google.com/github/alfgarcia37/ConEmu/blob/master/FineTunnig.ipynb\" target=\"_parent\"><img src=\"https://colab.research.google.com/assets/colab-badge.svg\" alt=\"Open In Colab\"/></a>"
      ]
    },
    {
      "cell_type": "code",
      "execution_count": 23,
      "metadata": {
        "colab": {
          "base_uri": "https://localhost:8080/"
        },
        "id": "6Beh6B7H6SL9",
        "outputId": "acd62960-61d3-415f-fde4-a64af4f10923"
      },
      "outputs": [
        {
          "output_type": "stream",
          "name": "stdout",
          "text": [
            "Drive already mounted at /content/drive; to attempt to forcibly remount, call drive.mount(\"/content/drive\", force_remount=True).\n",
            "Index(['pregunta', 'respuesta'], dtype='object')\n",
            "['pregunta', 'respuesta']\n"
          ]
        }
      ],
      "source": [
        "#!pip install openai pandas\n",
        "import pandas as pd\n",
        "import openai\n",
        "from google.colab import drive\n",
        "drive.mount('/content/drive')\n",
        "file_path = '/content/drive/My Drive/requerimientosAFCA.csv'\n",
        "data = pd.read_csv(file_path,sep=';', header=0)\n",
        "# Verificar los primeros registros\n",
        "print(data.columns)\n",
        "column_names = data.columns.tolist()\n",
        "print(column_names)\n",
        "#for index, row in data.iterrows():\n",
        "#        prompt = row['pregunta']  # Cambia 'input_column' con el nombre de tu columna de entrada\n",
        "#        completion = row['respuesta']  # Cambia 'output_column' con el nombre de tu columna de salida\n",
        ""
      ]
    },
    {
      "cell_type": "code",
      "source": [
        "\n",
        "# Guardar los datos en formato JSONL\n",
        "with open('/content/drive/My Drive/fine_tune_data.jsonl', 'w') as f:\n",
        "    for index, row in data.iterrows():\n",
        "        prompt = row['pregunta']  # Cambia 'input_column' con el nombre de tu columna de entrada\n",
        "        completion = row['respuesta']  # Cambia 'output_column' con el nombre de tu columna de salida\n",
        "        # Escribir en el archivo JSONL\n",
        "        f.write(f'{{\"prompt\": \"{prompt}\", \"completion\": \"{completion}\"}}\\n')\n",
        "\n",
        "\n",
        "\n",
        "\n",
        "\n",
        "\n"
      ],
      "metadata": {
        "id": "1GMg9qS-8r2v"
      },
      "execution_count": 24,
      "outputs": []
    },
    {
      "cell_type": "code",
      "source": [
        "import os\n",
        "from google.colab import userdata\n",
        "api_key = userdata.get('OPENAI_API_KEY')\n",
        "os.environ[\"OPENAI_API_KEY\"] = api_key\n",
        "client = OpenAI(api_key=api_key)"
      ],
      "metadata": {
        "id": "SX3h2WUiR4o0"
      },
      "execution_count": 25,
      "outputs": []
    },
    {
      "cell_type": "markdown",
      "source": [],
      "metadata": {
        "id": "gl7c2r9SR4Qm"
      }
    },
    {
      "cell_type": "markdown",
      "source": [
        "Sube el archivo JSONL a OpenAI:\n"
      ],
      "metadata": {
        "id": "1xUX7mHRSJhU"
      }
    },
    {
      "cell_type": "code",
      "source": [
        "# Subir el archivo JSONL a OpenAI\n",
        "response = openai.File.create(\n",
        "    file=open('/content/drive/My Drive/fine_tune_data.jsonl'),\n",
        "    purpose='fine-tune'\n",
        ")\n",
        "\n",
        "# Obtenemos el ID del archivo cargado\n",
        "file_id = response['id']\n",
        "\n",
        "#  Crear el modelo fine-tune con un nombre específico\n",
        "fine_tune_response = client.FineTune.create(\n",
        "    training_file=file_id,\n",
        "    model=\"davinci\",  # O el modelo base que elijas: \"curie\", \"babbage\", etc.\n",
        "    suffix=\"MyFirstModel\"  # El nombre que le quieres asignar al modelo\n",
        ")\n",
        "\n",
        "# Mostrar la respuesta del fine-tuning para verificar\n",
        "print(fine_tune_response)"
      ],
      "metadata": {
        "colab": {
          "base_uri": "https://localhost:8080/",
          "height": 211
        },
        "id": "Oo5g3QpWSMJZ",
        "outputId": "f288f7c3-6478-4168-982c-f400b18dc532"
      },
      "execution_count": 27,
      "outputs": [
        {
          "output_type": "error",
          "ename": "TypeError",
          "evalue": "'Files' object is not callable",
          "traceback": [
            "\u001b[0;31m---------------------------------------------------------------------------\u001b[0m",
            "\u001b[0;31mTypeError\u001b[0m                                 Traceback (most recent call last)",
            "\u001b[0;32m<ipython-input-27-1001404bbafe>\u001b[0m in \u001b[0;36m<cell line: 2>\u001b[0;34m()\u001b[0m\n\u001b[1;32m      1\u001b[0m \u001b[0;31m# Subir el archivo JSONL a OpenAI\u001b[0m\u001b[0;34m\u001b[0m\u001b[0;34m\u001b[0m\u001b[0m\n\u001b[0;32m----> 2\u001b[0;31m response = client.files(\n\u001b[0m\u001b[1;32m      3\u001b[0m     \u001b[0mfile\u001b[0m\u001b[0;34m=\u001b[0m\u001b[0mopen\u001b[0m\u001b[0;34m(\u001b[0m\u001b[0;34m'/content/drive/My Drive/fine_tune_data.jsonl'\u001b[0m\u001b[0;34m)\u001b[0m\u001b[0;34m,\u001b[0m\u001b[0;34m\u001b[0m\u001b[0;34m\u001b[0m\u001b[0m\n\u001b[1;32m      4\u001b[0m     \u001b[0mpurpose\u001b[0m\u001b[0;34m=\u001b[0m\u001b[0;34m'fine-tune'\u001b[0m\u001b[0;34m\u001b[0m\u001b[0;34m\u001b[0m\u001b[0m\n\u001b[1;32m      5\u001b[0m )\n",
            "\u001b[0;31mTypeError\u001b[0m: 'Files' object is not callable"
          ]
        }
      ]
    }
  ]
}